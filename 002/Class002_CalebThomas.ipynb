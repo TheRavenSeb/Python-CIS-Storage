{
 "cells": [
  {
   "cell_type": "markdown",
   "id": "1de52a3d",
   "metadata": {},
   "source": [
    "<table style=\"border: 4px solid red; border-collapse: collapse; width: 75%;\">\n",
    "    <tr>\n",
    "        <td style=\"border: 1px solid red; text-align: left; vertical-align: middle; height: 100px;\">\n",
    "            <p><span style=\"font-size: 15pt;\"><ul><li><span style=\"font-size: 18px; color: blue;\">Change the name of this template to the following Structure before you submit it:<ul><li><span style=\"font-size: 15px; color: red;\">Assignment_Number_StudentsName</span></li></ul></span></li></ul></span></p>\n",
    "        </td>\n",
    "    </tr>\n",
    "</table>"
   ]
  },
  {
   "cell_type": "markdown",
   "id": "e60134cb",
   "metadata": {},
   "source": [
    "<table style=\"border: 3px solid red; border-collapse: collapse; width: 75%;\">\n",
    "    <tr>\n",
    "        <td style=\"border: 1px solid red; text-align: left; vertical-align: middle; height: 100px;\">\n",
    "            <p><span style=\"font-size: 15pt;\"><ul><li><span style=\"font-size: 18px; color: blue;\">Insert a markdown cell below and enter the following information: <ul><li><span style=\"font-size: 15px; color: red;\">Name</span></li><li><span style=\"font-size: 15px; color: red;\">Assignment</span></li><li><span style=\"font-size: 15px; color: red;\">Date Submitted</span></li></ul></span></li></ul>\n",
    "</span></p>\n",
    "        </td>\n",
    "    </tr>\n",
    "</table>"
   ]
  },
  {
   "cell_type": "markdown",
   "id": "35110b4a",
   "metadata": {},
   "source": [
    "- Caleb Thomas\n",
    "- Assignment 002 \n",
    "- 02/04/2025"
   ]
  },
  {
   "cell_type": "markdown",
   "id": "fcb47228",
   "metadata": {},
   "source": [
    "<table style=\"border: 3px solid red; border-collapse: collapse; width: 75%;\">\n",
    "    <tr>\n",
    "        <td style=\"border: 1px solid red; text-align: left; vertical-align: middle; height: 100px;\">\n",
    "            <p><span style=\"font-size: 15pt;\"><ul><li><span style=\"font-size: 18px; color: blue;\">Each Week you are required to produce a Wiki/Journal. Enter a markdown cell below, make sure it is a markdown cell, and enter the Wiki below. Keep this in mind:<ul><li><span style=\"font-size: 15px; color: red;\">This part of the Assignment is a professional communication, similar to one you might send to your boss on a job; keep it that way.</span></li><li><span style=\"font-size: 15px; color: red;\">It must be a minimum of 350 words; anything shorter will not be graded.</span></li><li><span style=\"font-size: 15px; color: red;\">This should reflect on what worked for you, what didn't, and how you overcame the problems. If you had to research something, mention it, provide the sources, and explain how they helped.</span></li><li><span style=\"font-size: 15px; color: red;\">Never repeat the class assignment in this write-up; we all know what it is. What I want to know is your thoughts and reflections on this Assignment.</span></li></ul></span></li></ul></span></p>\n",
    "        </td>\n",
    "    </tr>\n",
    "</table>"
   ]
  },
  {
   "cell_type": "markdown",
   "id": "a88903bb",
   "metadata": {},
   "source": [
    "During this assignment, I found that there was some topics that i didn't remember from when i learned python in highschool. For example, i was reminded about dictionaries as well list and tuples which i did not use much of when first learning and it was a nice refresher. I did not find much difficaultly in the assignment and found that the assignment was very easy to complete. I did not have to do any research for this assignment other then what was provided in the video as i was able to complete it with the knowledge that i already had. writing the 25 questions however was a bit of a challenge as i had to think of 25 questions that i could ask and then write them out i sadly wasn't able to think on 25 questions so i only wrote 19. I did not have any issues with the assignment and found it to be very easy to complete. futhermore before the assignment was changed from the orignial i has already complated the code which is attached below."
   ]
  },
  {
   "cell_type": "code",
   "execution_count": null,
   "id": "2e2cf9f0",
   "metadata": {},
   "outputs": [],
   "source": [
    "s = '''During this assignment, I found that there was some topics that i didn't remember from when i learned python in highschool. For example, i was reminded about dictionaries as well list and tuples which i did not use much of when first learning and it was a nice refresher. I did not find much difficaultly in the assignment and found that the assignment was very easy to complete. I did not have to do any research for this assignment other then what was provided in the video as i was able to complete it with the knowledge that i already had. writing the 25 questions however was a bit of a challenge as i had to think of 25 questions that i could ask and then write them out i sadly wasn't able to think on 25 questions so i only wrote 19. I did not have any issues with the assignment and found it to be very easy to complete. futhermore before the assignment was changed from the orignial i has already complated the code which is attached below.'''\n",
    "print(s.count(' '))"
   ]
  },
  {
   "cell_type": "markdown",
   "id": "a8b96f06",
   "metadata": {},
   "source": [
    "<table style=\"border: 3px solid red; border-collapse: collapse; width: 75%;\">\n",
    "    <tr>\n",
    "        <td style=\"border: 1px solid red; text-align: left; vertical-align: middle; height: 100px;\">\n",
    "            <p><span style=\"font-size: 15pt;\"><ul><li><span style=\"font-size: 18px; color: blue;\">Lab:<br>Insert as many cells as you need below and post your code. Keep this things in mind:<ul><li><span style=\"font-size: 15px; color: red;\">No matter what language you use, if you post it, ensure it runs. </span></li></ul></span></li></ul></span></p>\n",
    "        </td>\n",
    "    </tr>\n",
    "</table>"
   ]
  },
  {
   "cell_type": "markdown",
   "id": "9bce043f",
   "metadata": {},
   "source": [
    "- 1. How does promises like asyncawait(asyncio) work in python?\n",
    "- 2. How can i make a request to a website and get the response in python?\n",
    "- 3. How does the .sort() method work in python?\n",
    "- 5. How do i work with files in python like writing into a text file or reading from a text file?\n",
    "- 6. How do i work with classes in python?\n",
    "- 7. How do i work with databases like MongoDB in python?\n",
    "- 8. How do i use substrings in python?\n",
    "- 9. How do i effctively use comments to allow for better colaboration?\n",
    "- 10. How do i use global variables in python effctively?\n",
    "- 11. How do i use the .split() method in python?\n",
    "- 12. How do i use the .join() method in python?\n",
    "- 13. How do i use the .replace() method in python?\n",
    "- 14. How do i use the .strip() method in python?\n",
    "- 15. How do i use the .find() method in python?\n",
    "- 16. How do i use f-strings?\n",
    "- 17. How do i use the .format() method in python?\n",
    "- 18. How do i use the .upper() method in python?\n",
    "- 19. How do i use the .lower() method in python?\n",
    "\n",
    "I really only had a few questions that i needed to ask\n",
    "\n"
   ]
  },
  {
   "cell_type": "markdown",
   "id": "9a4c4a74",
   "metadata": {},
   "source": [
    "<table style=\"border: 3px solid red; border-collapse: collapse; width: 75%;\">\n",
    "    <tr>\n",
    "        <td style=\"border: 1px solid red; text-align: left; vertical-align: middle; height: 100px;\">\n",
    "            <p><span style=\"font-size: 15pt;\"><ul><li><span style=\"font-size: 18px; color: blue;\">Insert a markdown cell below and post the link to the YouTube video made for this Assignment.<br>Keep these things in mind when making your video:<ul><li><span style=\"font-size: 15px; color: red;\">This is a walkthrough of how you tackled the lab assignment and the reasons behind your approach. Keep it casual and conversational. Use this as an opportunity to demonstrate your skills.</span></li><li><span style=\"font-size: 15px; color: red;\">Never read the code line by line; you have already posted your code, and I can read it.</span></li><li><span style=\"font-size: 15px; color: red;\">Keep it short but informative.</span></li><li><span style=\"font-size: 15px; color: red;\">Learn from this experience: after you make a video, watch it. If you are not happy with it, redo it. How you present something like this matters.</span></li><li><span style=\"font-size: 15px; color: red;\">Ensure the IDE's fonts are large enough to prevent the viewer from straining to see what you are posting.</span></li><li><span style=\"font-size: 15px; color: red;\">These videos are presentations that you should be able to show potential employers; therefore, they should be as professional as possible.</span></li><li><span style=\"font-size: 15px; color: red;\">All videos are to be posted on YouTube; you need to provide me with a link and make sure it is not set to private.</span></li></ul></span></li></ul></span></p>\n",
    "        </td>\n",
    "    </tr>\n",
    "</table>"
   ]
  },
  {
   "cell_type": "markdown",
   "id": "d1de96a0",
   "metadata": {},
   "source": [
    "<table style=\"border: 3px solid red; border-collapse: collapse; width: 75%;\">\n",
    "    <tr>\n",
    "        <td style=\"border: 1px solid red; text-align: left; vertical-align: middle; height: 100px;\">\n",
    "            <p><span style=\"font-size: 15pt;\"><ul><li><span style=\"font-size: 18px; color: blue;\">Scrape the Questions from the Assignment, if there are some, and enter them into a cell, then split the cell up so there is one question and its answer with a question number in each cell. Keep these things in mind:<ul><li><span style=\"font-size: 15px; color: red;\">All cells must be of markdown type. </span></li><li><span style=\"font-size: 15px; color: red;\">One word answers do not count. Explain yourself. </span></li></ul></span></li></ul></span></p>\n",
    "        </td>\n",
    "    </tr>\n",
    "</table>"
   ]
  },
  {
   "cell_type": "markdown",
   "id": "15e1b479",
   "metadata": {},
   "source": [
    "- 1. What unique classroom communication approach does Edward Cauthorn encourage to make learning a communal experience?  \n",
    "---\n",
    " Professor Cauthorn encourages students to use applacations like discord to communicate with each other and the professor and if we don't know something just to ask as someone will have the anwser or can help work together to find an anwser to the question.\n"
   ]
  },
  {
   "cell_type": "markdown",
   "id": "1598c03d",
   "metadata": {
    "vscode": {
     "languageId": "plaintext"
    }
   },
   "source": [
    "- 2. Why does Edward Cauthorn provide course materials, such as books, through his website instead of requiring students to purchase them? \n",
    "---\n",
    "Professor Cauthorn provides course materials through his website instead of requiring students to purchase them because he believes that it is important to make education accessible to everyone. He believes that students should not have to pay for expensive textbooks in order to learn, and that by providing course materials for free, \n",
    "he can help more students succeed in their studies and that no student should have to choose between feedign their kids or buying books."
   ]
  },
  {
   "cell_type": "markdown",
   "id": "ce62bf74",
   "metadata": {
    "vscode": {
     "languageId": "plaintext"
    }
   },
   "source": [
    "- 3. According to Edward Cauthorn, what are the four key human attributes that contribute to intelligence?\n",
    "\n"
   ]
  },
  {
   "cell_type": "markdown",
   "id": "5c9fe1fa",
   "metadata": {
    "vscode": {
     "languageId": "plaintext"
    }
   },
   "source": [
    "- 4. What is the main difference Edward Cauthorn explains between a compiler and an interpreter?\n",
    "--- \n",
    "A compiler translates the entire program into machine code before running it, while an interpreter translates the program line by line as it runs.\n"
   ]
  },
  {
   "cell_type": "markdown",
   "id": "7a2c79ad",
   "metadata": {
    "vscode": {
     "languageId": "plaintext"
    }
   },
   "source": [
    "- 5. Why does Edward Cauthorn require students to use Jupyter Notebooks in his class, and what advantage does it provide?\n",
    "---\n",
    "Professor Edward Cauthorn requires students to use Jupyter Notebooks in his class because it allows for easy file transfer. "
   ]
  },
  {
   "cell_type": "markdown",
   "id": "b3fda75a",
   "metadata": {
    "vscode": {
     "languageId": "plaintext"
    }
   },
   "source": [
    "- 6. What is the primary purpose of Python’s indentation rules in code?\n",
    "---\n",
    "The primary purpose of Python’s indentation rules in code is to make the code more readable and understandable. It helps to define the structure of the code and makes it easier to identify the blocks of code that belong together. Indentation is used to define the scope of the code and to separate different blocks of code. It also helps to improve the readability of the code and makes it easier to understand the logic of the program."
   ]
  },
  {
   "cell_type": "markdown",
   "id": "0f57bd10",
   "metadata": {
    "vscode": {
     "languageId": "plaintext"
    }
   },
   "source": [
    "- 7. Explain the difference between a list and a tuple in Python.\n",
    "---\n",
    "The main difference between a list and a tuple is that lists are mutable while tuples are immutable. This means that lists can be changed, while tuples cannot be changed.\n"
   ]
  },
  {
   "cell_type": "markdown",
   "id": "21536413",
   "metadata": {
    "vscode": {
     "languageId": "plaintext"
    }
   },
   "source": [
    "- 8. How does Python handle variable assignment and data types dynamically?\n",
    "--- \n",
    "Python handles variable assignment and data types dynamically by allowing variables to be assigned without specifying a data type. This means that variables can be assigned to any type of data, and the data type of a variable can change during the execution of the program. Python also allows for dynamic typing, which means that the data type of a variable is determined at runtime based on the value assigned to it. This allows for more flexibility in programming and makes it easier to work with different types of data."
   ]
  },
  {
   "cell_type": "markdown",
   "id": "af045125",
   "metadata": {},
   "source": [
    "- 9. What is a dictionary in Python, and how is it different from a list?\n",
    "---\n",
    "A dictionary in Python is a collection of key-value pairs. It is similar to a list, but instead of using an index to access elements, a dictionary uses keys to access values. This allows for more flexible data storage and retrieval, as keys can be any immutable data type, such as strings or numbers. Dictionaries are also unordered, meaning that the order of elements is not guaranteed, while lists are ordered and can be accessed by index."
   ]
  },
  {
   "cell_type": "markdown",
   "id": "288286eb",
   "metadata": {
    "vscode": {
     "languageId": "plaintext"
    }
   },
   "source": [
    "- 10. Describe the purpose of a function in Python and how it is defined.\n",
    "---\n",
    "A function in Python is a block of code that performs a specific task. It is defined using the def keyword, followed by the function name and a set of parentheses containing any arguments the function takes. The function body is then indented and contains the code that defines the function's behavior. Functions can take arguments, return values, and be called from other parts of the program to perform a specific task. They are used to encapsulate code and make it reusable, allowing for more modular and maintainable code.\n",
    "\n",
    "Example:\n",
    "```python\n",
    "def greet(name):\n",
    "    print(f\"Hello, {name}!\")\n",
    "\n",
    "greet(\"Alice\")\n",
    "\n",
    "\n",
    "```\n"
   ]
  },
  {
   "cell_type": "markdown",
   "id": "4c778830",
   "metadata": {},
   "source": [
    "- 11. What are some common built-in functions in Python, and how can they be useful?\n",
    "---\n",
    "Some common built-in functions in Python include print(), len(), and range(). These functions are useful for performing common tasks such as printing output, getting the length of a sequence, and generating a sequence of numbers. Built-in functions are provided by Python and can be used without importing any additional modules, making them readily available for use in any Python program. They are designed to perform specific tasks efficiently and accurately, saving time and effort for the programmer."
   ]
  },
  {
   "cell_type": "markdown",
   "id": "1498ed34",
   "metadata": {},
   "source": [
    "- 12. How does Python handle loops, and what are the main types of loops available?\n",
    "---\n",
    "Python handles loops using the for and while loop constructs. The for loop is used to iterate over a sequence of elements, such as a list or tuple, and execute a block of code for each element in the sequence. The while loop is used to execute a block of code repeatedly as long as a specified condition is true. Python also provides loop control statements such as break and continue to modify the behavior of loops and control the flow of execution. Loops are essential for performing repetitive tasks and iterating over data structures in Python programs.\n"
   ]
  },
  {
   "cell_type": "markdown",
   "id": "3e94b224",
   "metadata": {},
   "source": [
    "- 13. What is an exception in Python, and how can it be handled?\n",
    "---\n",
    "An exception in Python is an error that occurs during the execution of a program. Exceptions can be caused by various factors, such as invalid input, file not found, or division by zero. Exceptions can be handled using try-except blocks, which allow the programmer to catch and handle errors gracefully. The try block contains the code that may raise an exception, while the except block contains the code to handle the exception if it occurs. By handling exceptions, the program can continue to run without crashing and provide feedback to the user about the error that occurred."
   ]
  },
  {
   "cell_type": "markdown",
   "id": "0298e8a8",
   "metadata": {},
   "source": [
    "- 14. Describe the role of the `if-elif-else` statement in Python.\n",
    "---\n",
    "The `if-elif-else` statement in Python is used to make decisions based on the value of a condition. It allows the program to execute different blocks of code depending on the outcome of the condition. The `if` statement is used to check a single condition and execute a block of code if the condition is true. The `elif` statement is used to check additional conditions if the previous condition is false, and the `else` statement is used to execute a block of code if none of the previous conditions are true. This allows for more complex decision-making in Python programs and enables the program to respond to different scenarios based on the input or data provided."
   ]
  },
  {
   "cell_type": "markdown",
   "id": "60e69f32",
   "metadata": {},
   "source": [
    "- 15. What are modules in Python, and how can they be imported into a program?\n",
    "---\n",
    "Modules in Python are files that contain Python code, such as functions, classes, and variables. They are used to organize code into reusable components and provide a way to structure large programs. Modules can be imported into a program using the import statement, followed by the name of the module. This allows the program to access the code defined in the module and use it to perform specific tasks. Modules can be built-in like for example the math module, standard library modules provided by Python, or third-party modules created by other developers. By importing modules, programmers can leverage existing code and extend the functionality of their programs without having to write everything from scratch.\n",
    "\n",
    "```python\n",
    "import math # this is how you import a module.\n",
    "\n",
    "print(math.random(0, 10)) # Generates a random number between 0 and 10.\n",
    "```"
   ]
  },
  {
   "cell_type": "markdown",
   "id": "76e973f9",
   "metadata": {},
   "source": [
    "- 16. What is a variable in Python, and how is it used?\n",
    "---\n",
    "A variable in Python is a named storage location that holds a value. Variables are used to store data that can be accessed and manipulated by the program. They are defined using the assignment operator `=` and can hold different types of data, such as numbers, strings, lists, and dictionaries. Variables can be used to store the result of calculations, input from the user, or intermediate values in a program. They are essential for working with data and performing operations in Python programs."
   ]
  },
  {
   "cell_type": "markdown",
   "id": "01120744",
   "metadata": {},
   "source": [
    "- 17. How does Python determine the data type of a variable?\n",
    "---\n",
    "Python determines the data type of a variable dynamically based on the value assigned to it. This means that the data type of a variable is determined at execution and can change during the execution of the program. Python uses type inference to determine the data type of a variable based on the value assigned to it. For example, if a variable is assigned an integer value, it will be of type int(Number), and if it is assigned a string value, it will be of type str(String). Python also provides built-in functions such as type() to check the data type of a variable at execution."
   ]
  },
  {
   "cell_type": "markdown",
   "id": "2d9d1ac0",
   "metadata": {},
   "source": [
    "- 18. What happens when you assign a new value to an existing variable?\n",
    "---\n",
    "When you assign a new value to an existing variable, the variable is updated with the new value. The old value is replaced by the new value, and the variable now holds the new value. This allows variables to be updated and changed during the execution of the program, enabling the program to store and manipulate data as needed. Variables can be reassigned multiple times with different values, allowing for dynamic data storage and manipulation in Python programs."
   ]
  },
  {
   "cell_type": "markdown",
   "id": "08c366c2",
   "metadata": {},
   "source": [
    "- 19. How can you assign multiple values to multiple variables in a single line?\n",
    "---\n",
    "You can assign multiple values to multiple variables in a single line using tuple unpacking. This allows you to assign values to multiple variables simultaneously by unpacking a tuple containing the values. The number of variables on the left side of the assignment operator `=` must match the number of values in the tuple on the right side. This enables you to assign values to multiple variables in a single line, making the code more concise and readable.\n",
    "\n",
    "```python\n",
    "a, b, c = 1, 2, 3 # Assigns the values 1, 2, and 3 to variables a, b, and c respectively.\n",
    "```\n",
    "```python\n",
    "a,b = 1 # Assigns the value 1 to variables a and b\n",
    "```"
   ]
  },
  {
   "cell_type": "markdown",
   "id": "25aff74c",
   "metadata": {},
   "source": [
    "- 20. What is the difference between camel case, Pascal case, and snake case in variable naming?\n",
    "---\n",
    "Camel case, Pascal case, and snake case are different naming conventions used to name variables in Python. Camel case is a naming convention where the first letter of each word is capitalized except for the first word, and there are no spaces between words. Pascal case is similar to camel case, but the first letter of each word is capitalized, including the first word. Snake case is a naming convention where words are separated by underscores, and all letters are lowercase. Each naming convention has its own advantages and is used in different contexts to improve readability and maintainability of code."
   ]
  },
  {
   "cell_type": "markdown",
   "id": "e5f32846",
   "metadata": {},
   "source": [
    "- 21. Why is snake case generally recommended for naming variables?\n",
    "---\n",
    "Snake case is generally recommended for naming variables because it is easy to read and understand. It separates words with underscores, making variable names more readable and descriptive. Snake case is also consistent with the naming conventions used in the Python standard library and is widely accepted in the Python community. By using snake case, programmers can create meaningful and descriptive variable names that are easy to understand and maintain, improving the readability and quality of their code."
   ]
  },
  {
   "cell_type": "markdown",
   "id": "2ffbc459",
   "metadata": {},
   "source": [
    "- 22. What are some common mistakes to avoid when naming variables in Python?\n",
    "---\n",
    "Some common mistakes to avoid when naming variables in Python include using reserved keywords, starting variable names with numbers, using special characters, and using names that are too long or too short. Variable names should be descriptive, meaningful, and follow the naming conventions recommended by Python. They should be concise, clear, and reflect the purpose of the variable in the program. By avoiding common mistakes and following best practices for naming variables, programmers can create code that is easy to read, understand, and maintain, improving the quality and reliability of their programs."
   ]
  },
  {
   "cell_type": "markdown",
   "id": "a1ac7853",
   "metadata": {},
   "source": [
    "- 23. Why can’t you concatenate a string and an integer using the + operator?\n",
    "---\n",
    "You can't concatenate a string and an integer using the + operator because they are different data types. The + operator is used for addition when applied to numbers and concatenation when applied to strings. When you try to concatenate a string and an integer, Python raises a TypeError because it cannot concatenate different data types. To concatenate a string and an integer, you need to convert the integer to a string using the str() function before concatenating them or alternativly using a f-string."
   ]
  },
  {
   "cell_type": "markdown",
   "id": "976d9353",
   "metadata": {},
   "source": [
    "- 24. How can you print a string and an integer together in Python without causing an error?\n",
    "---\n",
    "You can print a string and an integer together in Python without causing an error by converting the integer to a string using the str() function before printing them. This allows you to concatenate the string and the integer as strings and print them together. Alternatively, you can use f-strings to format the output and include variables directly in the string without converting them to strings. This allows you to print strings and integers together in a single statement without causing an error and provides more flexibility in formatting the output.\n",
    "\n"
   ]
  },
  {
   "cell_type": "markdown",
   "id": "86ecf054",
   "metadata": {},
   "source": [
    "- 25. What are some advanced topics related to variables that were not covered in this video?\n",
    "---\n",
    "Some advanced topics not covered in the video were the use of global variables and local variable and the difference between them. it also did not cover the use of f-strings which allow for different variable type to be printed in a string without having to convert them to a string. It also did not cover the use of the format() method which is another way to format strings in python. \n"
   ]
  }
 ],
 "metadata": {
  "kernelspec": {
   "display_name": "Python 3 (ipykernel)",
   "language": "python",
   "name": "python3"
  },
  "language_info": {
   "codemirror_mode": {
    "name": "ipython",
    "version": 3
   },
   "file_extension": ".py",
   "mimetype": "text/x-python",
   "name": "python",
   "nbconvert_exporter": "python",
   "pygments_lexer": "ipython3",
   "version": "3.11.7"
  }
 },
 "nbformat": 4,
 "nbformat_minor": 5
}
