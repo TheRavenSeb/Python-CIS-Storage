{
 "cells": [
  {
   "cell_type": "code",
   "execution_count": 1,
   "id": "9f61a5df-3fae-42be-bab4-2e841f8b98d1",
   "metadata": {},
   "outputs": [
    {
     "name": "stdout",
     "output_type": "stream",
     "text": [
      "INFO: Starting the program\n",
      "INFO: Current number: 1\n",
      "INFO: Current number: 2\n",
      "INFO: Current number: 3\n",
      "INFO: Current number: 4\n",
      "INFO: Current number: 5\n",
      "WARNING: Number is 5, taking action\n"
     ]
    }
   ],
   "source": [
    "from modules.Logger import logger\n",
    "\n",
    "\n",
    "num = 0\n",
    "logger_instance = logger()\n",
    "logger_instance.info(\"Starting the program\")\n",
    "for i in range(10):\n",
    "    num += 1\n",
    "    logger_instance.info(f\"Current number: {num}\")\n",
    "    if num == 5:\n",
    "        logger_instance.warning(\"Number is 5, taking action\")\n",
    "        # Perform some action here\n",
    "        break\n",
    "    \n",
    "    else:\n",
    "        pass"
   ]
  },
  {
   "cell_type": "code",
   "execution_count": null,
   "id": "e0b71866-1f3b-4756-9932-10002d586c43",
   "metadata": {},
   "outputs": [],
   "source": []
  },
  {
   "cell_type": "code",
   "execution_count": null,
   "id": "a58f0aa4-bd45-4394-a173-f4447e1a8577",
   "metadata": {},
   "outputs": [],
   "source": []
  }
 ],
 "metadata": {
  "kernelspec": {
   "display_name": "Python 3 (ipykernel)",
   "language": "python",
   "name": "python3"
  },
  "language_info": {
   "codemirror_mode": {
    "name": "ipython",
    "version": 3
   },
   "file_extension": ".py",
   "mimetype": "text/x-python",
   "name": "python",
   "nbconvert_exporter": "python",
   "pygments_lexer": "ipython3",
   "version": "3.12.3"
  }
 },
 "nbformat": 4,
 "nbformat_minor": 5
}
