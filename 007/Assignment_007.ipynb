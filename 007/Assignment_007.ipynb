{
 "cells": [
  {
   "cell_type": "markdown",
   "id": "1de52a3d",
   "metadata": {},
   "source": [
    "<table style=\"border: 4px solid red; border-collapse: collapse; width: 75%;\">\n",
    "    <tr>\n",
    "        <td style=\"border: 1px solid red; text-align: left; vertical-align: middle; height: 100px;\">\n",
    "            <p><span style=\"font-size: 15pt;\"><ul><li><span style=\"font-size: 18px; color: blue;\">Change the name of this template to the following Structure before you submit it:<ul><li><span style=\"font-size: 15px; color: red;\">Assignment_Number_StudentsName</span></li></ul></span></li></ul></span></p>\n",
    "        </td>\n",
    "    </tr>\n",
    "</table>"
   ]
  },
  {
   "cell_type": "markdown",
   "id": "e60134cb",
   "metadata": {},
   "source": [
    "<table style=\"border: 3px solid red; border-collapse: collapse; width: 75%;\">\n",
    "    <tr>\n",
    "        <td style=\"border: 1px solid red; text-align: left; vertical-align: middle; height: 100px;\">\n",
    "            <p><span style=\"font-size: 15pt;\"><ul><li><span style=\"font-size: 18px; color: blue;\">Insert a markdown cell below and enter the following information: <ul><li><span style=\"font-size: 15px; color: red;\">Name</span></li><li><span style=\"font-size: 15px; color: red;\">Assignment</span></li><li><span style=\"font-size: 15px; color: red;\">Date Submitted</span></li></ul></span></li></ul>\n",
    "</span></p>\n",
    "        </td>\n",
    "    </tr>\n",
    "</table>"
   ]
  },
  {
   "cell_type": "markdown",
   "id": "fcb47228",
   "metadata": {},
   "source": [
    "<table style=\"border: 3px solid red; border-collapse: collapse; width: 75%;\">\n",
    "    <tr>\n",
    "        <td style=\"border: 1px solid red; text-align: left; vertical-align: middle; height: 100px;\">\n",
    "            <p><span style=\"font-size: 15pt;\"><ul><li><span style=\"font-size: 18px; color: blue;\">Each Week you are required to produce a Wiki/Journal. Enter a markdown cell below, make sure it is a markdown cell, and enter the Wiki below. Keep this in mind:<ul><li><span style=\"font-size: 15px; color: red;\">This part of the Assignment is a professional communication, similar to one you might send to your boss on a job; keep it that way.</span></li><li><span style=\"font-size: 15px; color: red;\">It must be a minimum of 350 words; anything shorter will not be graded.</span></li><li><span style=\"font-size: 15px; color: red;\">This should reflect on what worked for you, what didn't, and how you overcame the problems. If you had to research something, mention it, provide the sources, and explain how they helped.</span></li><li><span style=\"font-size: 15px; color: red;\">Never repeat the class assignment in this write-up; we all know what it is. What I want to know is your thoughts and reflections on this Assignment.</span></li></ul></span></li></ul></span></p>\n",
    "        </td>\n",
    "    </tr>\n",
    "</table>"
   ]
  },
  {
   "cell_type": "markdown",
   "id": "a8b96f06",
   "metadata": {},
   "source": [
    "<table style=\"border: 3px solid red; border-collapse: collapse; width: 75%;\">\n",
    "    <tr>\n",
    "        <td style=\"border: 1px solid red; text-align: left; vertical-align: middle; height: 100px;\">\n",
    "            <p><span style=\"font-size: 15pt;\"><ul><li><span style=\"font-size: 18px; color: blue;\">Lab:<br>Insert as many cells as you need below and post your code. Keep this things in mind:<ul><li><span style=\"font-size: 15px; color: red;\">No matter what language you use, if you post it, ensure it runs. </span></li></ul></span></li></ul></span></p>\n",
    "        </td>\n",
    "    </tr>\n",
    "</table>"
   ]
  },
  {
   "cell_type": "code",
   "execution_count": 1,
   "id": "45ea588e-bb78-4b30-bdc2-2d9e407fe34f",
   "metadata": {},
   "outputs": [
    {
     "name": "stdout",
     "output_type": "stream",
     "text": [
      "sucessfully loaded module\n"
     ]
    }
   ],
   "source": [
    "with open(\"ToDoController.py\", \"w\") as file:\n",
    "    file.write('''\n",
    "# Had to make single line comments as notebooks wasn't liking it when writing the module to a file\n",
    "#Caleb Thomas\n",
    "#03/12/25\n",
    "#Project Description:\n",
    "#Create a module that does the functions required to manage a to-do list program\n",
    "\n",
    "\n",
    "#TODO - Create a function to add tasks to the list\n",
    "#TODO - Create a function to remove tasks from the list\n",
    "#TODO - Create a function to view all tasks\n",
    "#TODO - Create a function to reorder tasks\n",
    "#TODO - Create a function to exit the program\n",
    "\n",
    "\n",
    "# Had to make single line comments as notebooks wasn't liking it when writing the module to a file\n",
    "#Caleb Thomas\n",
    "#03/12/25\n",
    "#Project Description:\n",
    "#Create a module that does the functions required to manage a to-do list program\n",
    "\n",
    "\n",
    "#TODO - Create a function to add tasks to the list\n",
    "#TODO - Create a function to remove tasks from the list\n",
    "#TODO - Create a function to view all tasks\n",
    "#TODO - Create a function to reorder tasks\n",
    "#TODO - Create a function to exit the program\n",
    "\n",
    "\n",
    "def add_task(task, task_list):\n",
    "    \"\"\"\n",
    "    Adds a task to the list\n",
    "    @param(String): task\n",
    "    @param(List): task_list\n",
    "    @returns: List\n",
    "    \"\"\"\n",
    "    task_list.append(task)\n",
    "    return task_list\n",
    "\n",
    "def remove_task(task, task_list):\n",
    "    \"\"\"\n",
    "    Removes a task from the list\n",
    "    @param(String): task\n",
    "    @param(List): task_list\n",
    "    @returns: List\n",
    "    \"\"\"\n",
    "    task_list.remove(task)\n",
    "    return task_list\n",
    "\n",
    "def view_tasks(task_list):\n",
    "    \"\"\"\n",
    "    Views all tasks in the list\n",
    "    @param(List): task_list\n",
    "    @returns: None\n",
    "    \"\"\"\n",
    "    index = 0\n",
    "    \n",
    "    print(\"Tasks:\")\n",
    "    if len(task_list) == 0:\n",
    "        print(\"No tasks to display\")\n",
    "        return\n",
    "    \n",
    "    for task in task_list:\n",
    "        print(f\"{index}. {task}\")\n",
    "        index += 1\n",
    "    \n",
    "def reorder_tasks(task_list):\n",
    "    \"\"\"\n",
    "    Reorders tasks in the list\n",
    "    @param(List): task_list\n",
    "    @returns: List\n",
    "    \"\"\"\n",
    "    \n",
    "    print(\"Reorder Tasks\")\n",
    "    view_tasks(task_list)\n",
    "    task_index = int(input(\"Enter the index of the task you want to move: \"))\n",
    "    new_index = int(input(\"Enter the new index for the task: \"))\n",
    "    task = task_list.pop(task_index - 1)\n",
    "    task_list.insert(new_index - 1, task)\n",
    "    return task_list\n",
    "\n",
    "def mark_task_complete(task_list):\n",
    "    \"\"\"\n",
    "    Marks a task as complete\n",
    "    \n",
    "    @param(List): task_list\n",
    "    @returns: List\n",
    "    \"\"\"\n",
    "    try:\n",
    "        view_tasks(task_list)\n",
    "        \n",
    "        taskNum = input(f\"Enter the task you want to mark as complete (0 - {len(task_list)-1}): \")\n",
    "        task = task_list[int(taskNum)]\n",
    "        if task.endswith(\" - Completed\"):\n",
    "            print(\"Task is already completed\")\n",
    "            return task_list\n",
    "        \n",
    "        task_list.remove(task)\n",
    "        task_list.append(f\"{task} - Completed\")\n",
    "        return task_list\n",
    "\n",
    "    except ValueError:\n",
    "        print(f\"Invalid task number. Please enter a number between 0 and {len(task_list)-1}\")\n",
    "        return task_list  \n",
    "        \n",
    "         \n",
    "        \n",
    "        \n",
    "        \n",
    "         \n",
    "        \n",
    "        ''')\n",
    "    print(\"sucessfully loaded module\")"
   ]
  },
  {
   "cell_type": "code",
   "execution_count": 3,
   "id": "d8ade5a9-25f2-4ae6-8574-28c08234e2cc",
   "metadata": {},
   "outputs": [
    {
     "name": "stdout",
     "output_type": "stream",
     "text": [
      "\n",
      "\n",
      "\n",
      "To-Do List Manager\n",
      "1. Add Task\n",
      "2. Remove Task\n",
      "3. View Tasks\n",
      "4. Reorder Tasks\n",
      "5. Mark Tasks As Complete\n",
      "6. Exit\n"
     ]
    },
    {
     "name": "stdin",
     "output_type": "stream",
     "text": [
      "Enter the number of the action you want to do:  1\n"
     ]
    },
    {
     "name": "stdout",
     "output_type": "stream",
     "text": [
      "\n",
      "\n",
      "\n"
     ]
    },
    {
     "name": "stdin",
     "output_type": "stream",
     "text": [
      "Enter the task you want to add:  task\n"
     ]
    },
    {
     "name": "stdout",
     "output_type": "stream",
     "text": [
      "\n",
      "\n",
      "\n",
      "To-Do List Manager\n",
      "1. Add Task\n",
      "2. Remove Task\n",
      "3. View Tasks\n",
      "4. Reorder Tasks\n",
      "5. Mark Tasks As Complete\n",
      "6. Exit\n"
     ]
    },
    {
     "name": "stdin",
     "output_type": "stream",
     "text": [
      "Enter the number of the action you want to do:  5\n"
     ]
    },
    {
     "name": "stdout",
     "output_type": "stream",
     "text": [
      "\n",
      "\n",
      "\n",
      "Tasks:\n",
      "0. task\n"
     ]
    },
    {
     "name": "stdin",
     "output_type": "stream",
     "text": [
      "Enter the task you want to mark as complete (0 - 0):  0\n"
     ]
    },
    {
     "name": "stdout",
     "output_type": "stream",
     "text": [
      "\n",
      "\n",
      "\n",
      "To-Do List Manager\n",
      "1. Add Task\n",
      "2. Remove Task\n",
      "3. View Tasks\n",
      "4. Reorder Tasks\n",
      "5. Mark Tasks As Complete\n",
      "6. Exit\n"
     ]
    },
    {
     "name": "stdin",
     "output_type": "stream",
     "text": [
      "Enter the number of the action you want to do:  3\n"
     ]
    },
    {
     "name": "stdout",
     "output_type": "stream",
     "text": [
      "\n",
      "\n",
      "\n",
      "Tasks:\n",
      "0. task - Completed\n",
      "\n",
      "\n",
      "\n",
      "To-Do List Manager\n",
      "1. Add Task\n",
      "2. Remove Task\n",
      "3. View Tasks\n",
      "4. Reorder Tasks\n",
      "5. Mark Tasks As Complete\n",
      "6. Exit\n"
     ]
    },
    {
     "name": "stdin",
     "output_type": "stream",
     "text": [
      "Enter the number of the action you want to do:  5\n"
     ]
    },
    {
     "name": "stdout",
     "output_type": "stream",
     "text": [
      "\n",
      "\n",
      "\n",
      "Tasks:\n",
      "0. task - Completed\n"
     ]
    },
    {
     "name": "stdin",
     "output_type": "stream",
     "text": [
      "Enter the task you want to mark as complete (0 - 0):  0\n"
     ]
    },
    {
     "name": "stdout",
     "output_type": "stream",
     "text": [
      "Task is already completed\n",
      "\n",
      "\n",
      "\n",
      "To-Do List Manager\n",
      "1. Add Task\n",
      "2. Remove Task\n",
      "3. View Tasks\n",
      "4. Reorder Tasks\n",
      "5. Mark Tasks As Complete\n",
      "6. Exit\n"
     ]
    },
    {
     "ename": "KeyboardInterrupt",
     "evalue": "Interrupted by user",
     "output_type": "error",
     "traceback": [
      "\u001b[1;31m---------------------------------------------------------------------------\u001b[0m",
      "\u001b[1;31mKeyboardInterrupt\u001b[0m                         Traceback (most recent call last)",
      "Cell \u001b[1;32mIn[3], line 61\u001b[0m\n\u001b[0;32m     55\u001b[0m         \u001b[38;5;28;01melse\u001b[39;00m:\n\u001b[0;32m     56\u001b[0m             \u001b[38;5;28mprint\u001b[39m(\u001b[38;5;124m\"\u001b[39m\u001b[38;5;124mInvalid choice. Please enter a number between 1 and 6.\u001b[39m\u001b[38;5;124m\"\u001b[39m)\n\u001b[1;32m---> 61\u001b[0m \u001b[43mstartup\u001b[49m\u001b[43m(\u001b[49m\u001b[43m)\u001b[49m\n",
      "Cell \u001b[1;32mIn[3], line 34\u001b[0m, in \u001b[0;36mstartup\u001b[1;34m()\u001b[0m\n\u001b[0;32m     32\u001b[0m \u001b[38;5;28mprint\u001b[39m(\u001b[38;5;124m\"\u001b[39m\u001b[38;5;124m5. Mark Tasks As Complete\u001b[39m\u001b[38;5;124m\"\u001b[39m)\n\u001b[0;32m     33\u001b[0m \u001b[38;5;28mprint\u001b[39m(\u001b[38;5;124m\"\u001b[39m\u001b[38;5;124m6. Exit\u001b[39m\u001b[38;5;124m\"\u001b[39m)\n\u001b[1;32m---> 34\u001b[0m choice \u001b[38;5;241m=\u001b[39m \u001b[38;5;28;43minput\u001b[39;49m\u001b[43m(\u001b[49m\u001b[38;5;124;43m\"\u001b[39;49m\u001b[38;5;124;43mEnter the number of the action you want to do: \u001b[39;49m\u001b[38;5;124;43m\"\u001b[39;49m\u001b[43m)\u001b[49m\n\u001b[0;32m     35\u001b[0m \u001b[38;5;28;01mif\u001b[39;00m choice \u001b[38;5;241m==\u001b[39m \u001b[38;5;124m\"\u001b[39m\u001b[38;5;124m1\u001b[39m\u001b[38;5;124m\"\u001b[39m:\n\u001b[0;32m     36\u001b[0m     \u001b[38;5;28mprint\u001b[39m(\u001b[38;5;124m\"\u001b[39m\u001b[38;5;130;01m\\n\u001b[39;00m\u001b[38;5;130;01m\\n\u001b[39;00m\u001b[38;5;124m\"\u001b[39m)\n",
      "File \u001b[1;32me:\\Users\\cthom\\miniconda3\\Lib\\site-packages\\ipykernel\\kernelbase.py:1282\u001b[0m, in \u001b[0;36mKernel.raw_input\u001b[1;34m(self, prompt)\u001b[0m\n\u001b[0;32m   1280\u001b[0m     msg \u001b[38;5;241m=\u001b[39m \u001b[38;5;124m\"\u001b[39m\u001b[38;5;124mraw_input was called, but this frontend does not support input requests.\u001b[39m\u001b[38;5;124m\"\u001b[39m\n\u001b[0;32m   1281\u001b[0m     \u001b[38;5;28;01mraise\u001b[39;00m StdinNotImplementedError(msg)\n\u001b[1;32m-> 1282\u001b[0m \u001b[38;5;28;01mreturn\u001b[39;00m \u001b[38;5;28;43mself\u001b[39;49m\u001b[38;5;241;43m.\u001b[39;49m\u001b[43m_input_request\u001b[49m\u001b[43m(\u001b[49m\n\u001b[0;32m   1283\u001b[0m \u001b[43m    \u001b[49m\u001b[38;5;28;43mstr\u001b[39;49m\u001b[43m(\u001b[49m\u001b[43mprompt\u001b[49m\u001b[43m)\u001b[49m\u001b[43m,\u001b[49m\n\u001b[0;32m   1284\u001b[0m \u001b[43m    \u001b[49m\u001b[38;5;28;43mself\u001b[39;49m\u001b[38;5;241;43m.\u001b[39;49m\u001b[43m_parent_ident\u001b[49m\u001b[43m[\u001b[49m\u001b[38;5;124;43m\"\u001b[39;49m\u001b[38;5;124;43mshell\u001b[39;49m\u001b[38;5;124;43m\"\u001b[39;49m\u001b[43m]\u001b[49m\u001b[43m,\u001b[49m\n\u001b[0;32m   1285\u001b[0m \u001b[43m    \u001b[49m\u001b[38;5;28;43mself\u001b[39;49m\u001b[38;5;241;43m.\u001b[39;49m\u001b[43mget_parent\u001b[49m\u001b[43m(\u001b[49m\u001b[38;5;124;43m\"\u001b[39;49m\u001b[38;5;124;43mshell\u001b[39;49m\u001b[38;5;124;43m\"\u001b[39;49m\u001b[43m)\u001b[49m\u001b[43m,\u001b[49m\n\u001b[0;32m   1286\u001b[0m \u001b[43m    \u001b[49m\u001b[43mpassword\u001b[49m\u001b[38;5;241;43m=\u001b[39;49m\u001b[38;5;28;43;01mFalse\u001b[39;49;00m\u001b[43m,\u001b[49m\n\u001b[0;32m   1287\u001b[0m \u001b[43m\u001b[49m\u001b[43m)\u001b[49m\n",
      "File \u001b[1;32me:\\Users\\cthom\\miniconda3\\Lib\\site-packages\\ipykernel\\kernelbase.py:1325\u001b[0m, in \u001b[0;36mKernel._input_request\u001b[1;34m(self, prompt, ident, parent, password)\u001b[0m\n\u001b[0;32m   1322\u001b[0m \u001b[38;5;28;01mexcept\u001b[39;00m \u001b[38;5;167;01mKeyboardInterrupt\u001b[39;00m:\n\u001b[0;32m   1323\u001b[0m     \u001b[38;5;66;03m# re-raise KeyboardInterrupt, to truncate traceback\u001b[39;00m\n\u001b[0;32m   1324\u001b[0m     msg \u001b[38;5;241m=\u001b[39m \u001b[38;5;124m\"\u001b[39m\u001b[38;5;124mInterrupted by user\u001b[39m\u001b[38;5;124m\"\u001b[39m\n\u001b[1;32m-> 1325\u001b[0m     \u001b[38;5;28;01mraise\u001b[39;00m \u001b[38;5;167;01mKeyboardInterrupt\u001b[39;00m(msg) \u001b[38;5;28;01mfrom\u001b[39;00m\u001b[38;5;250m \u001b[39m\u001b[38;5;28;01mNone\u001b[39;00m\n\u001b[0;32m   1326\u001b[0m \u001b[38;5;28;01mexcept\u001b[39;00m \u001b[38;5;167;01mException\u001b[39;00m:\n\u001b[0;32m   1327\u001b[0m     \u001b[38;5;28mself\u001b[39m\u001b[38;5;241m.\u001b[39mlog\u001b[38;5;241m.\u001b[39mwarning(\u001b[38;5;124m\"\u001b[39m\u001b[38;5;124mInvalid Message:\u001b[39m\u001b[38;5;124m\"\u001b[39m, exc_info\u001b[38;5;241m=\u001b[39m\u001b[38;5;28;01mTrue\u001b[39;00m)\n",
      "\u001b[1;31mKeyboardInterrupt\u001b[0m: Interrupted by user"
     ]
    }
   ],
   "source": [
    "'''\n",
    "Caleb Thomas \n",
    "03/12/25\n",
    "Project Description:\n",
    "Create a simple To-Do List Manager where users can:\n",
    "\n",
    "1. Add tasks to their list.\n",
    "2. Remove completed tasks.\n",
    "3. View all tasks.\n",
    "4. Reorder tasks.\n",
    "5. Exit the program.\n",
    "'''\n",
    "\n",
    "#TODO - make a input gui for the user to interact with the program\n",
    "\n",
    "# Import the necessary modules\n",
    "import ToDoController as controller\n",
    "\n",
    "def startup():\n",
    "    \"\"\"\n",
    "    Starts the program\n",
    "    @returns: None\n",
    "    \"\"\"\n",
    "    task_list = []\n",
    "    while True:\n",
    "        print(\"\\n\\n\")\n",
    "        print(\"To-Do List Manager\")\n",
    "        print(\"1. Add Task\")\n",
    "        print(\"2. Remove Task\")\n",
    "        print(\"3. View Tasks\")\n",
    "        print(\"4. Reorder Tasks\")\n",
    "        print(\"5. Mark Tasks As Complete\")\n",
    "        print(\"6. Exit\")\n",
    "        choice = input(\"Enter the number of the action you want to do: \")\n",
    "        if choice == \"1\":\n",
    "            print(\"\\n\\n\")\n",
    "            task = input(\"Enter the task you want to add: \")\n",
    "            task_list = controller.add_task(task, task_list)\n",
    "        elif choice == \"2\":\n",
    "            print(\"\\n\\n\")\n",
    "            task = input(\"Enter the task you want to remove: \")\n",
    "            task_list = controller.remove_task(task, task_list)\n",
    "        elif choice == '3':\n",
    "            print(\"\\n\\n\")\n",
    "            controller.view_tasks(task_list)\n",
    "        elif choice == \"4\":\n",
    "            print(\"\\n\\n\")\n",
    "            task_list = controller.reorder_tasks(task_list)\n",
    "        elif choice == \"5\":\n",
    "            print(\"\\n\\n\")\n",
    "            new_list = controller.mark_task_complete(task_list)\n",
    "            task_list = new_list\n",
    "        elif choice == \"6\":\n",
    "            break\n",
    "        else:\n",
    "            print(\"Invalid choice. Please enter a number between 1 and 6.\")\n",
    "\n",
    "\n",
    "\n",
    "\n",
    "startup()"
   ]
  },
  {
   "cell_type": "code",
   "execution_count": null,
   "id": "01c21350-a899-4cf1-9ac2-2dc82774ce95",
   "metadata": {},
   "outputs": [],
   "source": [
    "%%ai"
   ]
  },
  {
   "cell_type": "markdown",
   "id": "9a4c4a74",
   "metadata": {},
   "source": [
    "<table style=\"border: 3px solid red; border-collapse: collapse; width: 75%;\">\n",
    "    <tr>\n",
    "        <td style=\"border: 1px solid red; text-align: left; vertical-align: middle; height: 100px;\">\n",
    "            <p><span style=\"font-size: 15pt;\"><ul><li><span style=\"font-size: 18px; color: blue;\">Insert a markdown cell below and post the link to the YouTube video made for this Assignment.<br>Keep these things in mind when making your video:<ul><li><span style=\"font-size: 15px; color: red;\">This is a walkthrough of how you tackled the lab assignment and the reasons behind your approach. Keep it casual and conversational. Use this as an opportunity to demonstrate your skills.</span></li><li><span style=\"font-size: 15px; color: red;\">Never read the code line by line; you have already posted your code, and I can read it.</span></li><li><span style=\"font-size: 15px; color: red;\">Keep it short but informative.</span></li><li><span style=\"font-size: 15px; color: red;\">Learn from this experience: after you make a video, watch it. If you are not happy with it, redo it. How you present something like this matters.</span></li><li><span style=\"font-size: 15px; color: red;\">Ensure the IDE's fonts are large enough to prevent the viewer from straining to see what you are posting.</span></li><li><span style=\"font-size: 15px; color: red;\">These videos are presentations that you should be able to show potential employers; therefore, they should be as professional as possible.</span></li><li><span style=\"font-size: 15px; color: red;\">All videos are to be posted on YouTube; you need to provide me with a link and make sure it is not set to private.</span></li></ul></span></li></ul></span></p>\n",
    "        </td>\n",
    "    </tr>\n",
    "</table>"
   ]
  },
  {
   "cell_type": "markdown",
   "id": "d1de96a0",
   "metadata": {},
   "source": [
    "<table style=\"border: 3px solid red; border-collapse: collapse; width: 75%;\">\n",
    "    <tr>\n",
    "        <td style=\"border: 1px solid red; text-align: left; vertical-align: middle; height: 100px;\">\n",
    "            <p><span style=\"font-size: 15pt;\"><ul><li><span style=\"font-size: 18px; color: blue;\">Scrape the Questions from the Assignment, if there are some, and enter them into a cell, then split the cell up so there is one question and its answer with a question number in each cell. Keep these things in mind:<ul><li><span style=\"font-size: 15px; color: red;\">All cells must be of markdown type. </span></li><li><span style=\"font-size: 15px; color: red;\">One word answers do not count. Explain yourself. </span></li></ul></span></li></ul></span></p>\n",
    "        </td>\n",
    "    </tr>\n",
    "</table>"
   ]
  }
 ],
 "metadata": {
  "kernelspec": {
   "display_name": "Python 3 (ipykernel)",
   "language": "python",
   "name": "python3"
  },
  "language_info": {
   "codemirror_mode": {
    "name": "ipython",
    "version": 3
   },
   "file_extension": ".py",
   "mimetype": "text/x-python",
   "name": "python",
   "nbconvert_exporter": "python",
   "pygments_lexer": "ipython3",
   "version": "3.12.3"
  }
 },
 "nbformat": 4,
 "nbformat_minor": 5
}
