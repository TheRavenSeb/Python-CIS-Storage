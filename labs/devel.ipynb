{
 "cells": [
  {
   "cell_type": "code",
   "execution_count": 1,
   "id": "8312fe40",
   "metadata": {},
   "outputs": [],
   "source": [
    "  a ='''\n",
    "  def WhereAmi():\n",
    "      print(\"is in math mod\")\n",
    "    \n",
    "'''\n",
    "\n",
    "\n",
    "    "
   ]
  },
  {
   "cell_type": "code",
   "execution_count": 2,
   "id": "58647084",
   "metadata": {},
   "outputs": [],
   "source": [
    "b= '''def getANum():\n",
    "    x = input(\"Enter a Number: \")\n",
    "    return int(x)'''"
   ]
  },
  {
   "cell_type": "code",
   "execution_count": 3,
   "id": "e90474f6",
   "metadata": {},
   "outputs": [],
   "source": [
    "c= '''\n",
    "def divideBytwo(number):\n",
    "    remainder = 0 \n",
    "    new_number = number / 2\n",
    "    test_number = int(new_number)\n",
    "    if test_number != new_number:\n",
    "        remainder = 1\n",
    "        new_number = test_number\n",
    "    return new_number,remainder\n",
    "'''"
   ]
  },
  {
   "cell_type": "code",
   "execution_count": 4,
   "id": "0344db0f",
   "metadata": {},
   "outputs": [],
   "source": [
    "d ='''\n",
    "\n",
    "\n",
    "def CalulateBinary(n):\n",
    "    binary_rep = ''\n",
    "    while n > 0:\n",
    "        # Use & to get the least significant bit\n",
    "        binary_rep = str(n & 1) + binary_rep\n",
    "        # Right shift the number by 1 to check the next bit\n",
    "        n = n >> 1\n",
    "    return binary_rep if binary_rep else '0'\n",
    "        \n",
    "        '''"
   ]
  },
  {
   "cell_type": "code",
   "execution_count": 5,
   "id": "73b9e3da",
   "metadata": {},
   "outputs": [],
   "source": [
    "\n",
    "\n",
    "\n",
    "  \n",
    "\n",
    "    \n",
    "with open(\"binarymath.py\", \"w\") as FO:\n",
    "    \n",
    "    FO.write(a)\n",
    "    FO.write(b)\n",
    "    FO.write(c)"
   ]
  },
  {
   "cell_type": "code",
   "execution_count": null,
   "id": "5fafa2a6",
   "metadata": {},
   "outputs": [],
   "source": []
  },
  {
   "cell_type": "code",
   "execution_count": null,
   "id": "cfd76801",
   "metadata": {},
   "outputs": [],
   "source": []
  },
  {
   "cell_type": "code",
   "execution_count": null,
   "id": "f96d1abd",
   "metadata": {},
   "outputs": [],
   "source": []
  }
 ],
 "metadata": {
  "kernelspec": {
   "display_name": "Python 3 (ipykernel)",
   "language": "python",
   "name": "python3"
  },
  "language_info": {
   "codemirror_mode": {
    "name": "ipython",
    "version": 3
   },
   "file_extension": ".py",
   "mimetype": "text/x-python",
   "name": "python",
   "nbconvert_exporter": "python",
   "pygments_lexer": "ipython3",
   "version": "3.9.13"
  }
 },
 "nbformat": 4,
 "nbformat_minor": 5
}
